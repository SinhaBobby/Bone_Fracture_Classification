{
  "nbformat": 4,
  "nbformat_minor": 0,
  "metadata": {
    "colab": {
      "provenance": [],
      "gpuType": "T4",
      "authorship_tag": "ABX9TyMQI+YEMWkrQRT2K2sT+1i9",
      "include_colab_link": true
    },
    "kernelspec": {
      "name": "python3",
      "display_name": "Python 3"
    },
    "language_info": {
      "name": "python"
    },
    "accelerator": "GPU"
  },
  "cells": [
    {
      "cell_type": "markdown",
      "metadata": {
        "id": "view-in-github",
        "colab_type": "text"
      },
      "source": [
        "<a href=\"https://colab.research.google.com/github/SinhaBobby/Bone_Fracture_Classification/blob/main/Bone_Fracture_Classification.ipynb\" target=\"_parent\"><img src=\"https://colab.research.google.com/assets/colab-badge.svg\" alt=\"Open In Colab\"/></a>"
      ]
    },
    {
      "cell_type": "code",
      "execution_count": 21,
      "metadata": {
        "id": "hSdB0Xydplo4"
      },
      "outputs": [],
      "source": [
        "import torch\n",
        "import torch.nn.functional as F\n",
        "import torch.nn as nn\n",
        "import torchvision\n",
        "from torchvision import transforms\n",
        "\n",
        "from torchvision.datasets.utils import download_url\n",
        "import zipfile\n",
        "import os\n",
        "from PIL import Image\n",
        "import matplotlib.pyplot as plt\n",
        "import numpy as np\n",
        "import pandas as pd\n",
        "from torchvision.transforms import v2\n",
        "from torch.utils.data import Dataset, DataLoader\n"
      ]
    },
    {
      "cell_type": "code",
      "source": [
        "project_name  = \"Bone Fracture\"\n",
        "dataset_url = \"https://www.kaggle.com/api/v1/datasets/download/pkdarabi/bone-break-classification-image-dataset\"\n",
        "download_url(dataset_url,'.')"
      ],
      "metadata": {
        "colab": {
          "base_uri": "https://localhost:8080/"
        },
        "id": "OFshKHEEpsJc",
        "outputId": "0b21e29e-1ba7-478e-e399-dae6a6114fa4"
      },
      "execution_count": 23,
      "outputs": [
        {
          "output_type": "stream",
          "name": "stdout",
          "text": [
            "Using downloaded and verified file: ./bone-break-classification-image-dataset\n"
          ]
        }
      ]
    },
    {
      "cell_type": "code",
      "source": [
        "with zipfile.ZipFile(\"/content/bone-break-classification-image-dataset\", 'r') as zip_ref:\n",
        "    zip_ref.extractall('.')"
      ],
      "metadata": {
        "id": "wKbS_z8IrX6t"
      },
      "execution_count": 24,
      "outputs": []
    },
    {
      "cell_type": "code",
      "source": [
        "def collect_image_paths(data_dir):\n",
        "  data = []\n",
        "  for folder_classes in os.listdir(data_dir):\n",
        "    class_path = os.path.join(data_dir,folder_classes)\n",
        "    print(class_path)\n",
        "    if os.path.isdir(class_path):\n",
        "      for split in ['Train','Test']:\n",
        "        split_path = os.path.join(class_path,split)\n",
        "        print(split_path)\n",
        "        if os.path.isdir(split_path):\n",
        "          for image_path in os.listdir(split_path):\n",
        "            image_path = os.path.join(split_path,image_path)\n",
        "            data.append({\n",
        "                'path' :image_path,\n",
        "                'target' :folder_classes,\n",
        "                'split' :split})\n",
        "\n",
        "  return data\n",
        "\n",
        ""
      ],
      "metadata": {
        "id": "YRG5izU53e6x"
      },
      "execution_count": 25,
      "outputs": []
    },
    {
      "cell_type": "code",
      "source": [
        "dataset=collect_image_paths(\"/content/Bone Break Classification/Bone Break Classification\")\n",
        "df=pd.DataFrame(dataset)\n",
        "df.head()"
      ],
      "metadata": {
        "colab": {
          "base_uri": "https://localhost:8080/",
          "height": 727
        },
        "id": "FG9gf3WT6I8o",
        "outputId": "e0395604-1577-4d9b-a32a-cc73e54f6262"
      },
      "execution_count": 26,
      "outputs": [
        {
          "output_type": "stream",
          "name": "stdout",
          "text": [
            "/content/Bone Break Classification/Bone Break Classification/Oblique fracture\n",
            "/content/Bone Break Classification/Bone Break Classification/Oblique fracture/Train\n",
            "/content/Bone Break Classification/Bone Break Classification/Oblique fracture/Test\n",
            "/content/Bone Break Classification/Bone Break Classification/Longitudinal fracture\n",
            "/content/Bone Break Classification/Bone Break Classification/Longitudinal fracture/Train\n",
            "/content/Bone Break Classification/Bone Break Classification/Longitudinal fracture/Test\n",
            "/content/Bone Break Classification/Bone Break Classification/Comminuted fracture\n",
            "/content/Bone Break Classification/Bone Break Classification/Comminuted fracture/Train\n",
            "/content/Bone Break Classification/Bone Break Classification/Comminuted fracture/Test\n",
            "/content/Bone Break Classification/Bone Break Classification/Avulsion fracture\n",
            "/content/Bone Break Classification/Bone Break Classification/Avulsion fracture/Train\n",
            "/content/Bone Break Classification/Bone Break Classification/Avulsion fracture/Test\n",
            "/content/Bone Break Classification/Bone Break Classification/Hairline Fracture\n",
            "/content/Bone Break Classification/Bone Break Classification/Hairline Fracture/Train\n",
            "/content/Bone Break Classification/Bone Break Classification/Hairline Fracture/Test\n",
            "/content/Bone Break Classification/Bone Break Classification/Greenstick fracture\n",
            "/content/Bone Break Classification/Bone Break Classification/Greenstick fracture/Train\n",
            "/content/Bone Break Classification/Bone Break Classification/Greenstick fracture/Test\n",
            "/content/Bone Break Classification/Bone Break Classification/Pathological fracture\n",
            "/content/Bone Break Classification/Bone Break Classification/Pathological fracture/Train\n",
            "/content/Bone Break Classification/Bone Break Classification/Pathological fracture/Test\n",
            "/content/Bone Break Classification/Bone Break Classification/Impacted fracture\n",
            "/content/Bone Break Classification/Bone Break Classification/Impacted fracture/Train\n",
            "/content/Bone Break Classification/Bone Break Classification/Impacted fracture/Test\n",
            "/content/Bone Break Classification/Bone Break Classification/Spiral Fracture\n",
            "/content/Bone Break Classification/Bone Break Classification/Spiral Fracture/Train\n",
            "/content/Bone Break Classification/Bone Break Classification/Spiral Fracture/Test\n",
            "/content/Bone Break Classification/Bone Break Classification/Fracture Dislocation\n",
            "/content/Bone Break Classification/Bone Break Classification/Fracture Dislocation/Train\n",
            "/content/Bone Break Classification/Bone Break Classification/Fracture Dislocation/Test\n"
          ]
        },
        {
          "output_type": "execute_result",
          "data": {
            "text/plain": [
              "                                                path            target  split\n",
              "0  /content/Bone Break Classification/Bone Break ...  Oblique fracture  Train\n",
              "1  /content/Bone Break Classification/Bone Break ...  Oblique fracture  Train\n",
              "2  /content/Bone Break Classification/Bone Break ...  Oblique fracture  Train\n",
              "3  /content/Bone Break Classification/Bone Break ...  Oblique fracture  Train\n",
              "4  /content/Bone Break Classification/Bone Break ...  Oblique fracture  Train"
            ],
            "text/html": [
              "\n",
              "  <div id=\"df-d0683342-cdfe-403f-9fe3-5bba7351672f\" class=\"colab-df-container\">\n",
              "    <div>\n",
              "<style scoped>\n",
              "    .dataframe tbody tr th:only-of-type {\n",
              "        vertical-align: middle;\n",
              "    }\n",
              "\n",
              "    .dataframe tbody tr th {\n",
              "        vertical-align: top;\n",
              "    }\n",
              "\n",
              "    .dataframe thead th {\n",
              "        text-align: right;\n",
              "    }\n",
              "</style>\n",
              "<table border=\"1\" class=\"dataframe\">\n",
              "  <thead>\n",
              "    <tr style=\"text-align: right;\">\n",
              "      <th></th>\n",
              "      <th>path</th>\n",
              "      <th>target</th>\n",
              "      <th>split</th>\n",
              "    </tr>\n",
              "  </thead>\n",
              "  <tbody>\n",
              "    <tr>\n",
              "      <th>0</th>\n",
              "      <td>/content/Bone Break Classification/Bone Break ...</td>\n",
              "      <td>Oblique fracture</td>\n",
              "      <td>Train</td>\n",
              "    </tr>\n",
              "    <tr>\n",
              "      <th>1</th>\n",
              "      <td>/content/Bone Break Classification/Bone Break ...</td>\n",
              "      <td>Oblique fracture</td>\n",
              "      <td>Train</td>\n",
              "    </tr>\n",
              "    <tr>\n",
              "      <th>2</th>\n",
              "      <td>/content/Bone Break Classification/Bone Break ...</td>\n",
              "      <td>Oblique fracture</td>\n",
              "      <td>Train</td>\n",
              "    </tr>\n",
              "    <tr>\n",
              "      <th>3</th>\n",
              "      <td>/content/Bone Break Classification/Bone Break ...</td>\n",
              "      <td>Oblique fracture</td>\n",
              "      <td>Train</td>\n",
              "    </tr>\n",
              "    <tr>\n",
              "      <th>4</th>\n",
              "      <td>/content/Bone Break Classification/Bone Break ...</td>\n",
              "      <td>Oblique fracture</td>\n",
              "      <td>Train</td>\n",
              "    </tr>\n",
              "  </tbody>\n",
              "</table>\n",
              "</div>\n",
              "    <div class=\"colab-df-buttons\">\n",
              "\n",
              "  <div class=\"colab-df-container\">\n",
              "    <button class=\"colab-df-convert\" onclick=\"convertToInteractive('df-d0683342-cdfe-403f-9fe3-5bba7351672f')\"\n",
              "            title=\"Convert this dataframe to an interactive table.\"\n",
              "            style=\"display:none;\">\n",
              "\n",
              "  <svg xmlns=\"http://www.w3.org/2000/svg\" height=\"24px\" viewBox=\"0 -960 960 960\">\n",
              "    <path d=\"M120-120v-720h720v720H120Zm60-500h600v-160H180v160Zm220 220h160v-160H400v160Zm0 220h160v-160H400v160ZM180-400h160v-160H180v160Zm440 0h160v-160H620v160ZM180-180h160v-160H180v160Zm440 0h160v-160H620v160Z\"/>\n",
              "  </svg>\n",
              "    </button>\n",
              "\n",
              "  <style>\n",
              "    .colab-df-container {\n",
              "      display:flex;\n",
              "      gap: 12px;\n",
              "    }\n",
              "\n",
              "    .colab-df-convert {\n",
              "      background-color: #E8F0FE;\n",
              "      border: none;\n",
              "      border-radius: 50%;\n",
              "      cursor: pointer;\n",
              "      display: none;\n",
              "      fill: #1967D2;\n",
              "      height: 32px;\n",
              "      padding: 0 0 0 0;\n",
              "      width: 32px;\n",
              "    }\n",
              "\n",
              "    .colab-df-convert:hover {\n",
              "      background-color: #E2EBFA;\n",
              "      box-shadow: 0px 1px 2px rgba(60, 64, 67, 0.3), 0px 1px 3px 1px rgba(60, 64, 67, 0.15);\n",
              "      fill: #174EA6;\n",
              "    }\n",
              "\n",
              "    .colab-df-buttons div {\n",
              "      margin-bottom: 4px;\n",
              "    }\n",
              "\n",
              "    [theme=dark] .colab-df-convert {\n",
              "      background-color: #3B4455;\n",
              "      fill: #D2E3FC;\n",
              "    }\n",
              "\n",
              "    [theme=dark] .colab-df-convert:hover {\n",
              "      background-color: #434B5C;\n",
              "      box-shadow: 0px 1px 3px 1px rgba(0, 0, 0, 0.15);\n",
              "      filter: drop-shadow(0px 1px 2px rgba(0, 0, 0, 0.3));\n",
              "      fill: #FFFFFF;\n",
              "    }\n",
              "  </style>\n",
              "\n",
              "    <script>\n",
              "      const buttonEl =\n",
              "        document.querySelector('#df-d0683342-cdfe-403f-9fe3-5bba7351672f button.colab-df-convert');\n",
              "      buttonEl.style.display =\n",
              "        google.colab.kernel.accessAllowed ? 'block' : 'none';\n",
              "\n",
              "      async function convertToInteractive(key) {\n",
              "        const element = document.querySelector('#df-d0683342-cdfe-403f-9fe3-5bba7351672f');\n",
              "        const dataTable =\n",
              "          await google.colab.kernel.invokeFunction('convertToInteractive',\n",
              "                                                    [key], {});\n",
              "        if (!dataTable) return;\n",
              "\n",
              "        const docLinkHtml = 'Like what you see? Visit the ' +\n",
              "          '<a target=\"_blank\" href=https://colab.research.google.com/notebooks/data_table.ipynb>data table notebook</a>'\n",
              "          + ' to learn more about interactive tables.';\n",
              "        element.innerHTML = '';\n",
              "        dataTable['output_type'] = 'display_data';\n",
              "        await google.colab.output.renderOutput(dataTable, element);\n",
              "        const docLink = document.createElement('div');\n",
              "        docLink.innerHTML = docLinkHtml;\n",
              "        element.appendChild(docLink);\n",
              "      }\n",
              "    </script>\n",
              "  </div>\n",
              "\n",
              "\n",
              "<div id=\"df-9bbeb242-8538-4722-a2d6-54331ab1eb86\">\n",
              "  <button class=\"colab-df-quickchart\" onclick=\"quickchart('df-9bbeb242-8538-4722-a2d6-54331ab1eb86')\"\n",
              "            title=\"Suggest charts\"\n",
              "            style=\"display:none;\">\n",
              "\n",
              "<svg xmlns=\"http://www.w3.org/2000/svg\" height=\"24px\"viewBox=\"0 0 24 24\"\n",
              "     width=\"24px\">\n",
              "    <g>\n",
              "        <path d=\"M19 3H5c-1.1 0-2 .9-2 2v14c0 1.1.9 2 2 2h14c1.1 0 2-.9 2-2V5c0-1.1-.9-2-2-2zM9 17H7v-7h2v7zm4 0h-2V7h2v10zm4 0h-2v-4h2v4z\"/>\n",
              "    </g>\n",
              "</svg>\n",
              "  </button>\n",
              "\n",
              "<style>\n",
              "  .colab-df-quickchart {\n",
              "      --bg-color: #E8F0FE;\n",
              "      --fill-color: #1967D2;\n",
              "      --hover-bg-color: #E2EBFA;\n",
              "      --hover-fill-color: #174EA6;\n",
              "      --disabled-fill-color: #AAA;\n",
              "      --disabled-bg-color: #DDD;\n",
              "  }\n",
              "\n",
              "  [theme=dark] .colab-df-quickchart {\n",
              "      --bg-color: #3B4455;\n",
              "      --fill-color: #D2E3FC;\n",
              "      --hover-bg-color: #434B5C;\n",
              "      --hover-fill-color: #FFFFFF;\n",
              "      --disabled-bg-color: #3B4455;\n",
              "      --disabled-fill-color: #666;\n",
              "  }\n",
              "\n",
              "  .colab-df-quickchart {\n",
              "    background-color: var(--bg-color);\n",
              "    border: none;\n",
              "    border-radius: 50%;\n",
              "    cursor: pointer;\n",
              "    display: none;\n",
              "    fill: var(--fill-color);\n",
              "    height: 32px;\n",
              "    padding: 0;\n",
              "    width: 32px;\n",
              "  }\n",
              "\n",
              "  .colab-df-quickchart:hover {\n",
              "    background-color: var(--hover-bg-color);\n",
              "    box-shadow: 0 1px 2px rgba(60, 64, 67, 0.3), 0 1px 3px 1px rgba(60, 64, 67, 0.15);\n",
              "    fill: var(--button-hover-fill-color);\n",
              "  }\n",
              "\n",
              "  .colab-df-quickchart-complete:disabled,\n",
              "  .colab-df-quickchart-complete:disabled:hover {\n",
              "    background-color: var(--disabled-bg-color);\n",
              "    fill: var(--disabled-fill-color);\n",
              "    box-shadow: none;\n",
              "  }\n",
              "\n",
              "  .colab-df-spinner {\n",
              "    border: 2px solid var(--fill-color);\n",
              "    border-color: transparent;\n",
              "    border-bottom-color: var(--fill-color);\n",
              "    animation:\n",
              "      spin 1s steps(1) infinite;\n",
              "  }\n",
              "\n",
              "  @keyframes spin {\n",
              "    0% {\n",
              "      border-color: transparent;\n",
              "      border-bottom-color: var(--fill-color);\n",
              "      border-left-color: var(--fill-color);\n",
              "    }\n",
              "    20% {\n",
              "      border-color: transparent;\n",
              "      border-left-color: var(--fill-color);\n",
              "      border-top-color: var(--fill-color);\n",
              "    }\n",
              "    30% {\n",
              "      border-color: transparent;\n",
              "      border-left-color: var(--fill-color);\n",
              "      border-top-color: var(--fill-color);\n",
              "      border-right-color: var(--fill-color);\n",
              "    }\n",
              "    40% {\n",
              "      border-color: transparent;\n",
              "      border-right-color: var(--fill-color);\n",
              "      border-top-color: var(--fill-color);\n",
              "    }\n",
              "    60% {\n",
              "      border-color: transparent;\n",
              "      border-right-color: var(--fill-color);\n",
              "    }\n",
              "    80% {\n",
              "      border-color: transparent;\n",
              "      border-right-color: var(--fill-color);\n",
              "      border-bottom-color: var(--fill-color);\n",
              "    }\n",
              "    90% {\n",
              "      border-color: transparent;\n",
              "      border-bottom-color: var(--fill-color);\n",
              "    }\n",
              "  }\n",
              "</style>\n",
              "\n",
              "  <script>\n",
              "    async function quickchart(key) {\n",
              "      const quickchartButtonEl =\n",
              "        document.querySelector('#' + key + ' button');\n",
              "      quickchartButtonEl.disabled = true;  // To prevent multiple clicks.\n",
              "      quickchartButtonEl.classList.add('colab-df-spinner');\n",
              "      try {\n",
              "        const charts = await google.colab.kernel.invokeFunction(\n",
              "            'suggestCharts', [key], {});\n",
              "      } catch (error) {\n",
              "        console.error('Error during call to suggestCharts:', error);\n",
              "      }\n",
              "      quickchartButtonEl.classList.remove('colab-df-spinner');\n",
              "      quickchartButtonEl.classList.add('colab-df-quickchart-complete');\n",
              "    }\n",
              "    (() => {\n",
              "      let quickchartButtonEl =\n",
              "        document.querySelector('#df-9bbeb242-8538-4722-a2d6-54331ab1eb86 button');\n",
              "      quickchartButtonEl.style.display =\n",
              "        google.colab.kernel.accessAllowed ? 'block' : 'none';\n",
              "    })();\n",
              "  </script>\n",
              "</div>\n",
              "\n",
              "    </div>\n",
              "  </div>\n"
            ],
            "application/vnd.google.colaboratory.intrinsic+json": {
              "type": "dataframe",
              "variable_name": "df",
              "summary": "{\n  \"name\": \"df\",\n  \"rows\": 1129,\n  \"fields\": [\n    {\n      \"column\": \"path\",\n      \"properties\": {\n        \"dtype\": \"string\",\n        \"num_unique_values\": 1129,\n        \"samples\": [\n          \"/content/Bone Break Classification/Bone Break Classification/Pathological fracture/Train/image14_jpeg.rf.ce1178bcbba75fa1a79ae4fa463b1302.jpg\",\n          \"/content/Bone Break Classification/Bone Break Classification/Fracture Dislocation/Train/images13_jpg.rf.f5f8b144c22975c2db1d9d9.jpg\",\n          \"/content/Bone Break Classification/Bone Break Classification/Fracture Dislocation/Test/86bc033b86310ef27328c4b723226a_jumbo_jpeg.rf.7dd422b4ebf41ac2a0d5043f304b7c1a.jpg\"\n        ],\n        \"semantic_type\": \"\",\n        \"description\": \"\"\n      }\n    },\n    {\n      \"column\": \"target\",\n      \"properties\": {\n        \"dtype\": \"category\",\n        \"num_unique_values\": 10,\n        \"samples\": [\n          \"Spiral Fracture\",\n          \"Longitudinal fracture\",\n          \"Greenstick fracture\"\n        ],\n        \"semantic_type\": \"\",\n        \"description\": \"\"\n      }\n    },\n    {\n      \"column\": \"split\",\n      \"properties\": {\n        \"dtype\": \"category\",\n        \"num_unique_values\": 2,\n        \"samples\": [\n          \"Test\",\n          \"Train\"\n        ],\n        \"semantic_type\": \"\",\n        \"description\": \"\"\n      }\n    }\n  ]\n}"
            }
          },
          "metadata": {},
          "execution_count": 26
        }
      ]
    },
    {
      "cell_type": "code",
      "source": [
        "import sklearn\n",
        "from sklearn import preprocessing\n",
        "le = preprocessing.LabelEncoder()\n",
        "df['target']=le.fit_transform(df['target'])"
      ],
      "metadata": {
        "id": "hOD7FLdb-bUh"
      },
      "execution_count": 27,
      "outputs": []
    },
    {
      "cell_type": "code",
      "source": [
        "import torch.utils.data as data_utils\n",
        "train_df = pd.DataFrame(df[df['split']=='Train'])\n",
        "tests_df = pd.DataFrame(df[df['split']=='Test'])\n",
        "\n",
        "train_df.drop('split',axis=1,inplace=True)\n",
        "tests_df.drop('split',axis=1,inplace=True)\n",
        "\n"
      ],
      "metadata": {
        "id": "K0PPnZnK9UGT"
      },
      "execution_count": 28,
      "outputs": []
    },
    {
      "cell_type": "code",
      "source": [
        "transform = transforms.Compose([transforms.Resize((250,250)),\n",
        "    transforms.ToTensor()\n",
        "])\n",
        "\n",
        "transform  = {\n",
        "    'Train' : v2.Compose([\n",
        "    v2.PILToTensor(),\n",
        "    v2.RandomHorizontalFlip(p=.5),\n",
        "    v2.RandomResizedCrop(size=[250, 250], antialias=True),\n",
        "    v2.ToDtype(torch.float32, scale=True)]),\n",
        "\n",
        "    'Test' : v2.Compose([\n",
        "    v2.PILToTensor(),\n",
        "    v2.RandomResizedCrop(size=[250, 250], antialias=True),\n",
        "    v2.ToDtype(torch.float32, scale=True)])\n",
        "}"
      ],
      "metadata": {
        "id": "Cy37elDX27FX"
      },
      "execution_count": 29,
      "outputs": []
    },
    {
      "cell_type": "code",
      "source": [
        "class dataset(Dataset):\n",
        "  def __init__(self,paths,labels=None,transform = None,isTrain = True):\n",
        "    self.paths = paths.to_list()\n",
        "    self.labels = labels.to_list()\n",
        "    self.transform = transform\n",
        "    self.isTrain= isTrain\n",
        "\n",
        "  def __getitem__(self,index):\n",
        "    image = Image.open(self.paths[index])\n",
        "    if self.transform is not None:\n",
        "      if self.isTrain:\n",
        "        image = self.transform['Train'](image)\n",
        "      else:\n",
        "        image = self.transform['Test'](image)\n",
        "    return image, self.labels[index]\n",
        "\n",
        "  def __len__(self):\n",
        "    return len(self.paths)\n"
      ],
      "metadata": {
        "id": "fOuQtOwO5p3L"
      },
      "execution_count": 30,
      "outputs": []
    },
    {
      "cell_type": "code",
      "source": [
        "train_dataset = dataset(train_df['path'], train_df['target'], transform=transform,isTrain=True)\n",
        "test_dataset = dataset(tests_df['path'], tests_df['target'], transform=transform,isTrain=False)"
      ],
      "metadata": {
        "id": "eMuWphDmBB_B"
      },
      "execution_count": 31,
      "outputs": []
    },
    {
      "cell_type": "markdown",
      "source": [],
      "metadata": {
        "id": "ybuY7-xIKgyp"
      }
    },
    {
      "cell_type": "code",
      "source": [
        "for img,label in test_dataset:\n",
        "  print(img.shape)\n",
        "  break"
      ],
      "metadata": {
        "colab": {
          "base_uri": "https://localhost:8080/"
        },
        "id": "La1_4xHbKiDo",
        "outputId": "73d6411d-7928-41c0-bcec-c2a9b18b57fc"
      },
      "execution_count": 27,
      "outputs": [
        {
          "output_type": "stream",
          "name": "stdout",
          "text": [
            "torch.Size([3, 250, 250])\n"
          ]
        }
      ]
    },
    {
      "cell_type": "code",
      "source": [
        "for img,label in train_dataset:\n",
        "  plt.imshow(img.permute(1,2,0))\n",
        "  break"
      ],
      "metadata": {
        "colab": {
          "base_uri": "https://localhost:8080/",
          "height": 435
        },
        "id": "tfnPdjn9KUQ5",
        "outputId": "23b11d91-4b54-4b9c-d98a-e0e0c1b002c1"
      },
      "execution_count": 92,
      "outputs": [
        {
          "output_type": "display_data",
          "data": {
            "text/plain": [
              "<Figure size 640x480 with 1 Axes>"
            ],
            "image/png": "[encoded data removed]"
          },
          "metadata": {}
        }
      ]
    },
    {
      "cell_type": "code",
      "source": [
        "train_loader = DataLoader(train_dataset, shuffle=True, batch_size =16)\n",
        "test_loader = DataLoader(test_dataset, shuffle=True, batch_size =16)"
      ],
      "metadata": {
        "id": "4CHprm9gDXKj"
      },
      "execution_count": 32,
      "outputs": []
    },
    {
      "cell_type": "code",
      "source": [
        "class ImageClassificationBase(nn.Module):\n",
        "  def training_step(self,batch):\n",
        "    images,labels = batch\n",
        "    out = self(images)\n",
        "    _,pred = torch.max(out,dim=1)\n",
        "    #print('in training',out, pred,labels)\n",
        "    loss= F.cross_entropy(out,labels)\n",
        "    return loss\n",
        "\n",
        "  def validation_step(self, batch):\n",
        "    images,labels=batch\n",
        "    out=self(images)\n",
        "    loss= F.cross_entropy(out,labels)\n",
        "    acc= accuracy(out,labels)\n",
        "    return {'val_loss':loss.detach(),'val_acc':acc}\n",
        "\n",
        "  def validation_epoch_end(self, outputs):\n",
        "    batch_losses= [x['val_loss'] for x in outputs]\n",
        "    epoch_loss= torch.stack(batch_losses).mean()\n",
        "    batch_accs = [x['val_acc'] for x in outputs]\n",
        "    epoch_accs= torch.stack(batch_accs).mean()\n",
        "    return {'val_loss':epoch_loss.item(),'val_acc':epoch_accs.item()}\n",
        "\n",
        "  def epoch_end(self,epoch, result):\n",
        "    print(\"Epoch [{}],Train loss: {:.4f}, val_loss: {:,.4f}, val_acc: {:,.4f}\".format(epoch,result['train_loss'],result['val_loss'],result['val_acc']))\n",
        "\n",
        "def accuracy(outputs, labels):\n",
        "  _,pred = torch.max(outputs,dim=1)# here max() function returns max value in the row(as dim=1) with its indices\n",
        "  return torch.tensor(torch.sum(pred==labels).item()/len(outputs))\n",
        "\n",
        "\n"
      ],
      "metadata": {
        "id": "-vt7BmQrqH-V"
      },
      "execution_count": 33,
      "outputs": []
    },
    {
      "cell_type": "code",
      "source": [
        "def get_default_device():\n",
        "  if torch.cuda.is_available():\n",
        "    return torch.device(\"cuda\")\n",
        "  else:\n",
        "    return torch.device('cpu')\n",
        "\n",
        "def to_Device(data,device):\n",
        "  if isinstance(data,(list,tuple)):\n",
        "    return [to_Device(x,device) for x in data]\n",
        "  return data.to(device,non_blocking=True)\n",
        "\n",
        "class DeviceDataLoader():\n",
        "  #wrap a dataloader to move data to device#\n",
        "  def __init__(self, dl, device):\n",
        "    self.dl = dl\n",
        "    self.device=device\n",
        "\n",
        "  def __iter__(self):\n",
        "    #yield a batch of data after moving it to device\n",
        "    for b in self.dl:\n",
        "      yield to_Device(b,self.device)\n",
        "\n",
        "\n",
        "  def __len__(self):\n",
        "    #number of batches\n",
        "    return len(self.dl)"
      ],
      "metadata": {
        "id": "2lPi-ksDqJas"
      },
      "execution_count": 34,
      "outputs": []
    },
    {
      "cell_type": "code",
      "source": [
        "def conv_block(in_channels,out_channels,is_pool=False,):\n",
        "  layers = [nn.Conv2d(in_channels,out_channels,kernel_size=3,padding=1),\n",
        "            nn.BatchNorm2d(out_channels),\n",
        "            nn.ReLU(inplace=True)]\n",
        "  if is_pool:\n",
        "    layers.append(nn.MaxPool2d(2))\n",
        "  return nn.Sequential(*layers)\n",
        "\n",
        "class Resnet9(ImageClassificationBase):\n",
        "  def __init__(self,in_channels,num_classes):\n",
        "    super().__init__()\n",
        "    #input 3*250*20\n",
        "    self.conv1 = conv_block(in_channels,64) #64*250*250\n",
        "    self.conv2 = conv_block(64,128,is_pool=True)#128*125*125\n",
        "    self.res1 = nn.Sequential(conv_block(128,128),conv_block(128,128))# 128*125*125\n",
        "\n",
        "    self.conv3 = conv_block(128,256) # 256*125*125\n",
        "    self.conv4 = conv_block(256,512,is_pool=True) # 512*62*62\n",
        "    self.res2 = nn.Sequential(conv_block(512,512),conv_block(512,512)) # 512*62*62\n",
        "\n",
        "    self.classifier = nn.Sequential(nn.MaxPool2d(4),#512*15*15\n",
        "                                    nn.Flatten(),\n",
        "                                    nn.Linear(512*15*15,num_classes))\n",
        "\n",
        "  def forward(self,xb):\n",
        "    out = self.conv1(xb)\n",
        "    out = self.conv2(out)\n",
        "    out = self.res1(out) + out\n",
        "    out = self.conv3(out)\n",
        "    out = self.conv4(out)\n",
        "    out = self.res2(out) + out\n",
        "    out = self.classifier(out)\n",
        "    return out\n",
        "\n",
        "\n"
      ],
      "metadata": {
        "id": "HkRp_m9Ty09C"
      },
      "execution_count": 35,
      "outputs": []
    },
    {
      "cell_type": "code",
      "source": [
        "device= get_default_device()\n",
        "device\n",
        "model = Resnet9(3,10)\n",
        "num_epochs=30\n",
        "opt_fun =  torch.optim.SGD\n",
        "lr=0.01"
      ],
      "metadata": {
        "id": "J2xqaiI7qP-e"
      },
      "execution_count": 36,
      "outputs": []
    },
    {
      "cell_type": "code",
      "source": [
        "model"
      ],
      "metadata": {
        "colab": {
          "base_uri": "https://localhost:8080/"
        },
        "id": "4Nx7OqZ04Qw4",
        "outputId": "4eaea40f-2c56-4366-91e3-59c7baed2187"
      },
      "execution_count": 37,
      "outputs": [
        {
          "output_type": "execute_result",
          "data": {
            "text/plain": [
              "Resnet9(\n",
              "  (conv1): Sequential(\n",
              "    (0): Conv2d(3, 64, kernel_size=(3, 3), stride=(1, 1), padding=(1, 1))\n",
              "    (1): BatchNorm2d(64, eps=1e-05, momentum=0.1, affine=True, track_running_stats=True)\n",
              "    (2): ReLU(inplace=True)\n",
              "  )\n",
              "  (conv2): Sequential(\n",
              "    (0): Conv2d(64, 128, kernel_size=(3, 3), stride=(1, 1), padding=(1, 1))\n",
              "    (1): BatchNorm2d(128, eps=1e-05, momentum=0.1, affine=True, track_running_stats=True)\n",
              "    (2): ReLU(inplace=True)\n",
              "    (3): MaxPool2d(kernel_size=2, stride=2, padding=0, dilation=1, ceil_mode=False)\n",
              "  )\n",
              "  (res1): Sequential(\n",
              "    (0): Sequential(\n",
              "      (0): Conv2d(128, 128, kernel_size=(3, 3), stride=(1, 1), padding=(1, 1))\n",
              "      (1): BatchNorm2d(128, eps=1e-05, momentum=0.1, affine=True, track_running_stats=True)\n",
              "      (2): ReLU(inplace=True)\n",
              "    )\n",
              "    (1): Sequential(\n",
              "      (0): Conv2d(128, 128, kernel_size=(3, 3), stride=(1, 1), padding=(1, 1))\n",
              "      (1): BatchNorm2d(128, eps=1e-05, momentum=0.1, affine=True, track_running_stats=True)\n",
              "      (2): ReLU(inplace=True)\n",
              "    )\n",
              "  )\n",
              "  (conv3): Sequential(\n",
              "    (0): Conv2d(128, 256, kernel_size=(3, 3), stride=(1, 1), padding=(1, 1))\n",
              "    (1): BatchNorm2d(256, eps=1e-05, momentum=0.1, affine=True, track_running_stats=True)\n",
              "    (2): ReLU(inplace=True)\n",
              "  )\n",
              "  (conv4): Sequential(\n",
              "    (0): Conv2d(256, 512, kernel_size=(3, 3), stride=(1, 1), padding=(1, 1))\n",
              "    (1): BatchNorm2d(512, eps=1e-05, momentum=0.1, affine=True, track_running_stats=True)\n",
              "    (2): ReLU(inplace=True)\n",
              "    (3): MaxPool2d(kernel_size=2, stride=2, padding=0, dilation=1, ceil_mode=False)\n",
              "  )\n",
              "  (res2): Sequential(\n",
              "    (0): Sequential(\n",
              "      (0): Conv2d(512, 512, kernel_size=(3, 3), stride=(1, 1), padding=(1, 1))\n",
              "      (1): BatchNorm2d(512, eps=1e-05, momentum=0.1, affine=True, track_running_stats=True)\n",
              "      (2): ReLU(inplace=True)\n",
              "    )\n",
              "    (1): Sequential(\n",
              "      (0): Conv2d(512, 512, kernel_size=(3, 3), stride=(1, 1), padding=(1, 1))\n",
              "      (1): BatchNorm2d(512, eps=1e-05, momentum=0.1, affine=True, track_running_stats=True)\n",
              "      (2): ReLU(inplace=True)\n",
              "    )\n",
              "  )\n",
              "  (classifier): Sequential(\n",
              "    (0): MaxPool2d(kernel_size=4, stride=4, padding=0, dilation=1, ceil_mode=False)\n",
              "    (1): Flatten(start_dim=1, end_dim=-1)\n",
              "    (2): Linear(in_features=115200, out_features=10, bias=True)\n",
              "  )\n",
              ")"
            ]
          },
          "metadata": {},
          "execution_count": 37
        }
      ]
    },
    {
      "cell_type": "code",
      "source": [
        "train_dl = DeviceDataLoader(train_loader,device)\n",
        "val_dl= DeviceDataLoader(test_loader,device)\n",
        "#test_dl = DeviceDataLoader(test_dl,device)\n",
        "to_Device(model,device)"
      ],
      "metadata": {
        "colab": {
          "base_uri": "https://localhost:8080/"
        },
        "id": "QWH2u5mEqR9P",
        "outputId": "2925c30d-8b8d-4eb2-c9e3-e0e24db3d622"
      },
      "execution_count": 38,
      "outputs": [
        {
          "output_type": "execute_result",
          "data": {
            "text/plain": [
              "Resnet9(\n",
              "  (conv1): Sequential(\n",
              "    (0): Conv2d(3, 64, kernel_size=(3, 3), stride=(1, 1), padding=(1, 1))\n",
              "    (1): BatchNorm2d(64, eps=1e-05, momentum=0.1, affine=True, track_running_stats=True)\n",
              "    (2): ReLU(inplace=True)\n",
              "  )\n",
              "  (conv2): Sequential(\n",
              "    (0): Conv2d(64, 128, kernel_size=(3, 3), stride=(1, 1), padding=(1, 1))\n",
              "    (1): BatchNorm2d(128, eps=1e-05, momentum=0.1, affine=True, track_running_stats=True)\n",
              "    (2): ReLU(inplace=True)\n",
              "    (3): MaxPool2d(kernel_size=2, stride=2, padding=0, dilation=1, ceil_mode=False)\n",
              "  )\n",
              "  (res1): Sequential(\n",
              "    (0): Sequential(\n",
              "      (0): Conv2d(128, 128, kernel_size=(3, 3), stride=(1, 1), padding=(1, 1))\n",
              "      (1): BatchNorm2d(128, eps=1e-05, momentum=0.1, affine=True, track_running_stats=True)\n",
              "      (2): ReLU(inplace=True)\n",
              "    )\n",
              "    (1): Sequential(\n",
              "      (0): Conv2d(128, 128, kernel_size=(3, 3), stride=(1, 1), padding=(1, 1))\n",
              "      (1): BatchNorm2d(128, eps=1e-05, momentum=0.1, affine=True, track_running_stats=True)\n",
              "      (2): ReLU(inplace=True)\n",
              "    )\n",
              "  )\n",
              "  (conv3): Sequential(\n",
              "    (0): Conv2d(128, 256, kernel_size=(3, 3), stride=(1, 1), padding=(1, 1))\n",
              "    (1): BatchNorm2d(256, eps=1e-05, momentum=0.1, affine=True, track_running_stats=True)\n",
              "    (2): ReLU(inplace=True)\n",
              "  )\n",
              "  (conv4): Sequential(\n",
              "    (0): Conv2d(256, 512, kernel_size=(3, 3), stride=(1, 1), padding=(1, 1))\n",
              "    (1): BatchNorm2d(512, eps=1e-05, momentum=0.1, affine=True, track_running_stats=True)\n",
              "    (2): ReLU(inplace=True)\n",
              "    (3): MaxPool2d(kernel_size=2, stride=2, padding=0, dilation=1, ceil_mode=False)\n",
              "  )\n",
              "  (res2): Sequential(\n",
              "    (0): Sequential(\n",
              "      (0): Conv2d(512, 512, kernel_size=(3, 3), stride=(1, 1), padding=(1, 1))\n",
              "      (1): BatchNorm2d(512, eps=1e-05, momentum=0.1, affine=True, track_running_stats=True)\n",
              "      (2): ReLU(inplace=True)\n",
              "    )\n",
              "    (1): Sequential(\n",
              "      (0): Conv2d(512, 512, kernel_size=(3, 3), stride=(1, 1), padding=(1, 1))\n",
              "      (1): BatchNorm2d(512, eps=1e-05, momentum=0.1, affine=True, track_running_stats=True)\n",
              "      (2): ReLU(inplace=True)\n",
              "    )\n",
              "  )\n",
              "  (classifier): Sequential(\n",
              "    (0): MaxPool2d(kernel_size=4, stride=4, padding=0, dilation=1, ceil_mode=False)\n",
              "    (1): Flatten(start_dim=1, end_dim=-1)\n",
              "    (2): Linear(in_features=115200, out_features=10, bias=True)\n",
              "  )\n",
              ")"
            ]
          },
          "metadata": {},
          "execution_count": 38
        }
      ]
    },
    {
      "cell_type": "code",
      "source": [
        "@torch.no_grad()\n",
        "def evaluate(model,val_loader):\n",
        "  model.eval()\n",
        "  outputs = [model.validation_step(batch) for batch in val_loader]\n",
        "  return model.validation_epoch_end(outputs)\n",
        "\n",
        "def get_lr(optimizer):\n",
        "    for param_group in optimizer.param_groups:\n",
        "        return param_group['lr']\n",
        "\n",
        "def fit_one_cycle(epochs,max_lr,model,train_loader,val_loader,weight_decay=0,grad_clip=None,opt_func=torch.optim.SGD):\n",
        "  torch.cuda.empty_cache()\n",
        "  history=[]\n",
        "  #setup custom optimizer with weight decay\n",
        "  optimizer = opt_func(model.parameters(),max_lr,weight_decay=weight_decay)\n",
        "\n",
        "  #set up one cycle learning rate scheduler\n",
        "  sched = torch.optim.lr_scheduler.OneCycleLR(optimizer,max_lr,epochs=epochs,steps_per_epoch=len(train_loader))\n",
        "\n",
        "  for epoch in range(epochs):\n",
        "    #training phase\n",
        "    model.train()\n",
        "    train_losses=[]\n",
        "    lrs =[]\n",
        "    for batch in train_loader:\n",
        "      loss = model.training_step(batch)\n",
        "      train_losses.append(loss)\n",
        "      loss.backward()\n",
        "\n",
        "      #gradient clipping\n",
        "      if grad_clip:\n",
        "        nn.utils.clip_grad_value_(model.parameters(),grad_clip)\n",
        "\n",
        "      optimizer.step()\n",
        "      optimizer.zero_grad()\n",
        "\n",
        "      #record and update learning rate\n",
        "      lrs.append(get_lr(optimizer))\n",
        "\n",
        "      sched.step()\n",
        "\n",
        "    #validation phase\n",
        "    result = evaluate(model,val_loader)\n",
        "    result['train_loss'] = torch.stack(train_losses).mean().item()\n",
        "    #print(np.mean(lrs))\n",
        "    model.epoch_end(epoch,result)\n",
        "    history.append(result)\n",
        "  return history\n",
        "\n",
        "\n",
        "\n",
        "\n",
        "def fit(epochs,lr,model,train_loader,val_loader,opt_func):\n",
        "  history=[]\n",
        "  optimizer = opt_func(model.parameters(),lr)\n",
        "  for epoch in range(num_epochs):\n",
        "    model.train()\n",
        "    train_losses = []\n",
        "\n",
        "    for batch in train_dl:\n",
        "      loss = model.training_step(batch)\n",
        "      train_losses.append(loss)\n",
        "      loss.backward()\n",
        "      optimizer.step()\n",
        "      optimizer.zero_grad()\n",
        "\n",
        "    result = evaluate(model,val_loader)\n",
        "    result['train_loss'] = torch.stack(train_losses).mean().item()\n",
        "    model.epoch_end(epoch,result)\n",
        "    history.append(result)\n",
        "  return history\n",
        "\n",
        "\n",
        "\n",
        "      #forward pass\n",
        "\n",
        "\n",
        "\n",
        "      #batch_output_res = torch.max(batch_output,1)\n",
        "      #print(batch_output_res.shape,Batch_label.shape)\n",
        "\n",
        "      #Batch_label = Batch_label.reshape(batch_output_res.shape)\n",
        "      #Batch_label =  Batch_label.float()\n",
        "      #batch_output = batch_output.type(torch.float32)\n",
        "\n",
        "\n",
        "\n",
        "\n",
        "\n",
        "\n",
        "\n"
      ],
      "metadata": {
        "id": "2GahtFCdqURR"
      },
      "execution_count": 39,
      "outputs": []
    },
    {
      "cell_type": "code",
      "source": [],
      "metadata": {
        "id": "yrNc5JB98Fe2"
      },
      "execution_count": null,
      "outputs": []
    },
    {
      "cell_type": "code",
      "source": [
        "torch.cuda.empty_cache()\n",
        "ini_his= evaluate(model,val_dl)"
      ],
      "metadata": {
        "id": "3B8rIicg7yY2"
      },
      "execution_count": 40,
      "outputs": []
    },
    {
      "cell_type": "code",
      "source": [
        "torch.cuda.empty_cache()\n",
        "history = fit(epochs=num_epochs,lr=lr,model=model,train_loader=train_dl,val_loader=val_dl,opt_func=opt_fun)"
      ],
      "metadata": {
        "colab": {
          "base_uri": "https://localhost:8080/",
          "height": 686
        },
        "id": "4QY_r9BM5Aqf",
        "outputId": "5bf3cb5c-7cc5-4271-dc27-8b9b21636d48"
      },
      "execution_count": 21,
      "outputs": [
        {
          "output_type": "stream",
          "name": "stdout",
          "text": [
            "Epoch [0],Train loss: 163.5166, val_loss: 18.4485, val_acc: 0.1389\n",
            "Epoch [1],Train loss: 40.8386, val_loss: 39.1553, val_acc: 0.1111\n",
            "Epoch [2],Train loss: 11.4962, val_loss: 5.4125, val_acc: 0.1042\n",
            "Epoch [3],Train loss: 4.0204, val_loss: 3.9558, val_acc: 0.1250\n",
            "Epoch [4],Train loss: 2.8535, val_loss: 2.8650, val_acc: 0.1435\n",
            "Epoch [5],Train loss: 2.5394, val_loss: 2.5256, val_acc: 0.1389\n",
            "Epoch [6],Train loss: 2.4107, val_loss: 2.3483, val_acc: 0.1806\n",
            "Epoch [7],Train loss: 2.3085, val_loss: 2.3851, val_acc: 0.1528\n",
            "Epoch [8],Train loss: 2.3149, val_loss: 2.5310, val_acc: 0.1319\n",
            "Epoch [9],Train loss: 2.2913, val_loss: 2.4211, val_acc: 0.1505\n",
            "Epoch [10],Train loss: 2.2552, val_loss: 2.3489, val_acc: 0.1597\n",
            "Epoch [11],Train loss: 2.2461, val_loss: 2.4605, val_acc: 0.0903\n",
            "Epoch [12],Train loss: 2.2360, val_loss: 2.3122, val_acc: 0.1088\n",
            "Epoch [13],Train loss: 2.2374, val_loss: 2.3738, val_acc: 0.1366\n",
            "Epoch [14],Train loss: 2.2695, val_loss: 2.3156, val_acc: 0.1389\n",
            "Epoch [15],Train loss: 2.2219, val_loss: 2.3625, val_acc: 0.1759\n",
            "Epoch [16],Train loss: 2.2296, val_loss: 2.3672, val_acc: 0.1481\n",
            "Epoch [17],Train loss: 2.2069, val_loss: 2.3658, val_acc: 0.1227\n",
            "Epoch [18],Train loss: 2.1772, val_loss: 2.3561, val_acc: 0.1782\n",
            "Epoch [19],Train loss: 2.1971, val_loss: 2.3043, val_acc: 0.1181\n",
            "Epoch [20],Train loss: 2.1763, val_loss: 2.3588, val_acc: 0.1968\n",
            "Epoch [21],Train loss: 2.1781, val_loss: 2.3147, val_acc: 0.1250\n",
            "Epoch [22],Train loss: 2.1861, val_loss: 2.3159, val_acc: 0.1227\n"
          ]
        },
        {
          "output_type": "error",
          "ename": "KeyboardInterrupt",
          "evalue": "",
          "traceback": [
            "\u001b[0;31m---------------------------------------------------------------------------\u001b[0m",
            "\u001b[0;31mKeyboardInterrupt\u001b[0m                         Traceback (most recent call last)",
            "\u001b[0;32m<ipython-input-21-329ef84fc5f0>\u001b[0m in \u001b[0;36m<cell line: 1>\u001b[0;34m()\u001b[0m\n\u001b[0;32m----> 1\u001b[0;31m \u001b[0mhistory\u001b[0m \u001b[0;34m=\u001b[0m \u001b[0mfit\u001b[0m\u001b[0;34m(\u001b[0m\u001b[0mepochs\u001b[0m\u001b[0;34m=\u001b[0m\u001b[0mnum_epochs\u001b[0m\u001b[0;34m,\u001b[0m\u001b[0mlr\u001b[0m\u001b[0;34m=\u001b[0m\u001b[0mlr\u001b[0m\u001b[0;34m,\u001b[0m\u001b[0mmodel\u001b[0m\u001b[0;34m=\u001b[0m\u001b[0mmodel\u001b[0m\u001b[0;34m,\u001b[0m\u001b[0mtrain_loader\u001b[0m\u001b[0;34m=\u001b[0m\u001b[0mtrain_dl\u001b[0m\u001b[0;34m,\u001b[0m\u001b[0mval_loader\u001b[0m\u001b[0;34m=\u001b[0m\u001b[0mval_dl\u001b[0m\u001b[0;34m,\u001b[0m\u001b[0mopt_func\u001b[0m\u001b[0;34m=\u001b[0m\u001b[0mopt_fun\u001b[0m\u001b[0;34m)\u001b[0m\u001b[0;34m\u001b[0m\u001b[0;34m\u001b[0m\u001b[0m\n\u001b[0m",
            "\u001b[0;32m<ipython-input-19-dc1910102a8d>\u001b[0m in \u001b[0;36mfit\u001b[0;34m(epochs, lr, model, train_loader, val_loader, opt_func)\u001b[0m\n\u001b[1;32m     12\u001b[0m     \u001b[0mtrain_losses\u001b[0m \u001b[0;34m=\u001b[0m \u001b[0;34m[\u001b[0m\u001b[0;34m]\u001b[0m\u001b[0;34m\u001b[0m\u001b[0;34m\u001b[0m\u001b[0m\n\u001b[1;32m     13\u001b[0m \u001b[0;34m\u001b[0m\u001b[0m\n\u001b[0;32m---> 14\u001b[0;31m     \u001b[0;32mfor\u001b[0m \u001b[0mbatch\u001b[0m \u001b[0;32min\u001b[0m \u001b[0mtrain_dl\u001b[0m\u001b[0;34m:\u001b[0m\u001b[0;34m\u001b[0m\u001b[0;34m\u001b[0m\u001b[0m\n\u001b[0m\u001b[1;32m     15\u001b[0m       \u001b[0mloss\u001b[0m \u001b[0;34m=\u001b[0m \u001b[0mmodel\u001b[0m\u001b[0;34m.\u001b[0m\u001b[0mtraining_step\u001b[0m\u001b[0;34m(\u001b[0m\u001b[0mbatch\u001b[0m\u001b[0;34m)\u001b[0m\u001b[0;34m\u001b[0m\u001b[0;34m\u001b[0m\u001b[0m\n\u001b[1;32m     16\u001b[0m       \u001b[0mtrain_losses\u001b[0m\u001b[0;34m.\u001b[0m\u001b[0mappend\u001b[0m\u001b[0;34m(\u001b[0m\u001b[0mloss\u001b[0m\u001b[0;34m)\u001b[0m\u001b[0;34m\u001b[0m\u001b[0;34m\u001b[0m\u001b[0m\n",
            "\u001b[0;32m<ipython-input-14-ad6fc953d005>\u001b[0m in \u001b[0;36m__iter__\u001b[0;34m(self)\u001b[0m\n\u001b[1;32m     19\u001b[0m     \u001b[0;31m#yield a batch of data after moving it to device\u001b[0m\u001b[0;34m\u001b[0m\u001b[0;34m\u001b[0m\u001b[0m\n\u001b[1;32m     20\u001b[0m     \u001b[0;32mfor\u001b[0m \u001b[0mb\u001b[0m \u001b[0;32min\u001b[0m \u001b[0mself\u001b[0m\u001b[0;34m.\u001b[0m\u001b[0mdl\u001b[0m\u001b[0;34m:\u001b[0m\u001b[0;34m\u001b[0m\u001b[0;34m\u001b[0m\u001b[0m\n\u001b[0;32m---> 21\u001b[0;31m       \u001b[0;32myield\u001b[0m \u001b[0mto_Device\u001b[0m\u001b[0;34m(\u001b[0m\u001b[0mb\u001b[0m\u001b[0;34m,\u001b[0m\u001b[0mself\u001b[0m\u001b[0;34m.\u001b[0m\u001b[0mdevice\u001b[0m\u001b[0;34m)\u001b[0m\u001b[0;34m\u001b[0m\u001b[0;34m\u001b[0m\u001b[0m\n\u001b[0m\u001b[1;32m     22\u001b[0m \u001b[0;34m\u001b[0m\u001b[0m\n\u001b[1;32m     23\u001b[0m \u001b[0;34m\u001b[0m\u001b[0m\n",
            "\u001b[0;32m<ipython-input-14-ad6fc953d005>\u001b[0m in \u001b[0;36mto_Device\u001b[0;34m(data, device)\u001b[0m\n\u001b[1;32m      7\u001b[0m \u001b[0;32mdef\u001b[0m \u001b[0mto_Device\u001b[0m\u001b[0;34m(\u001b[0m\u001b[0mdata\u001b[0m\u001b[0;34m,\u001b[0m\u001b[0mdevice\u001b[0m\u001b[0;34m)\u001b[0m\u001b[0;34m:\u001b[0m\u001b[0;34m\u001b[0m\u001b[0;34m\u001b[0m\u001b[0m\n\u001b[1;32m      8\u001b[0m   \u001b[0;32mif\u001b[0m \u001b[0misinstance\u001b[0m\u001b[0;34m(\u001b[0m\u001b[0mdata\u001b[0m\u001b[0;34m,\u001b[0m\u001b[0;34m(\u001b[0m\u001b[0mlist\u001b[0m\u001b[0;34m,\u001b[0m\u001b[0mtuple\u001b[0m\u001b[0;34m)\u001b[0m\u001b[0;34m)\u001b[0m\u001b[0;34m:\u001b[0m\u001b[0;34m\u001b[0m\u001b[0;34m\u001b[0m\u001b[0m\n\u001b[0;32m----> 9\u001b[0;31m     \u001b[0;32mreturn\u001b[0m \u001b[0;34m[\u001b[0m\u001b[0mto_Device\u001b[0m\u001b[0;34m(\u001b[0m\u001b[0mx\u001b[0m\u001b[0;34m,\u001b[0m\u001b[0mdevice\u001b[0m\u001b[0;34m)\u001b[0m \u001b[0;32mfor\u001b[0m \u001b[0mx\u001b[0m \u001b[0;32min\u001b[0m \u001b[0mdata\u001b[0m\u001b[0;34m]\u001b[0m\u001b[0;34m\u001b[0m\u001b[0;34m\u001b[0m\u001b[0m\n\u001b[0m\u001b[1;32m     10\u001b[0m   \u001b[0;32mreturn\u001b[0m \u001b[0mdata\u001b[0m\u001b[0;34m.\u001b[0m\u001b[0mto\u001b[0m\u001b[0;34m(\u001b[0m\u001b[0mdevice\u001b[0m\u001b[0;34m,\u001b[0m\u001b[0mnon_blocking\u001b[0m\u001b[0;34m=\u001b[0m\u001b[0;32mTrue\u001b[0m\u001b[0;34m)\u001b[0m\u001b[0;34m\u001b[0m\u001b[0;34m\u001b[0m\u001b[0m\n\u001b[1;32m     11\u001b[0m \u001b[0;34m\u001b[0m\u001b[0m\n",
            "\u001b[0;32m<ipython-input-14-ad6fc953d005>\u001b[0m in \u001b[0;36m<listcomp>\u001b[0;34m(.0)\u001b[0m\n\u001b[1;32m      7\u001b[0m \u001b[0;32mdef\u001b[0m \u001b[0mto_Device\u001b[0m\u001b[0;34m(\u001b[0m\u001b[0mdata\u001b[0m\u001b[0;34m,\u001b[0m\u001b[0mdevice\u001b[0m\u001b[0;34m)\u001b[0m\u001b[0;34m:\u001b[0m\u001b[0;34m\u001b[0m\u001b[0;34m\u001b[0m\u001b[0m\n\u001b[1;32m      8\u001b[0m   \u001b[0;32mif\u001b[0m \u001b[0misinstance\u001b[0m\u001b[0;34m(\u001b[0m\u001b[0mdata\u001b[0m\u001b[0;34m,\u001b[0m\u001b[0;34m(\u001b[0m\u001b[0mlist\u001b[0m\u001b[0;34m,\u001b[0m\u001b[0mtuple\u001b[0m\u001b[0;34m)\u001b[0m\u001b[0;34m)\u001b[0m\u001b[0;34m:\u001b[0m\u001b[0;34m\u001b[0m\u001b[0;34m\u001b[0m\u001b[0m\n\u001b[0;32m----> 9\u001b[0;31m     \u001b[0;32mreturn\u001b[0m \u001b[0;34m[\u001b[0m\u001b[0mto_Device\u001b[0m\u001b[0;34m(\u001b[0m\u001b[0mx\u001b[0m\u001b[0;34m,\u001b[0m\u001b[0mdevice\u001b[0m\u001b[0;34m)\u001b[0m \u001b[0;32mfor\u001b[0m \u001b[0mx\u001b[0m \u001b[0;32min\u001b[0m \u001b[0mdata\u001b[0m\u001b[0;34m]\u001b[0m\u001b[0;34m\u001b[0m\u001b[0;34m\u001b[0m\u001b[0m\n\u001b[0m\u001b[1;32m     10\u001b[0m   \u001b[0;32mreturn\u001b[0m \u001b[0mdata\u001b[0m\u001b[0;34m.\u001b[0m\u001b[0mto\u001b[0m\u001b[0;34m(\u001b[0m\u001b[0mdevice\u001b[0m\u001b[0;34m,\u001b[0m\u001b[0mnon_blocking\u001b[0m\u001b[0;34m=\u001b[0m\u001b[0;32mTrue\u001b[0m\u001b[0;34m)\u001b[0m\u001b[0;34m\u001b[0m\u001b[0;34m\u001b[0m\u001b[0m\n\u001b[1;32m     11\u001b[0m \u001b[0;34m\u001b[0m\u001b[0m\n",
            "\u001b[0;32m<ipython-input-14-ad6fc953d005>\u001b[0m in \u001b[0;36mto_Device\u001b[0;34m(data, device)\u001b[0m\n\u001b[1;32m      8\u001b[0m   \u001b[0;32mif\u001b[0m \u001b[0misinstance\u001b[0m\u001b[0;34m(\u001b[0m\u001b[0mdata\u001b[0m\u001b[0;34m,\u001b[0m\u001b[0;34m(\u001b[0m\u001b[0mlist\u001b[0m\u001b[0;34m,\u001b[0m\u001b[0mtuple\u001b[0m\u001b[0;34m)\u001b[0m\u001b[0;34m)\u001b[0m\u001b[0;34m:\u001b[0m\u001b[0;34m\u001b[0m\u001b[0;34m\u001b[0m\u001b[0m\n\u001b[1;32m      9\u001b[0m     \u001b[0;32mreturn\u001b[0m \u001b[0;34m[\u001b[0m\u001b[0mto_Device\u001b[0m\u001b[0;34m(\u001b[0m\u001b[0mx\u001b[0m\u001b[0;34m,\u001b[0m\u001b[0mdevice\u001b[0m\u001b[0;34m)\u001b[0m \u001b[0;32mfor\u001b[0m \u001b[0mx\u001b[0m \u001b[0;32min\u001b[0m \u001b[0mdata\u001b[0m\u001b[0;34m]\u001b[0m\u001b[0;34m\u001b[0m\u001b[0;34m\u001b[0m\u001b[0m\n\u001b[0;32m---> 10\u001b[0;31m   \u001b[0;32mreturn\u001b[0m \u001b[0mdata\u001b[0m\u001b[0;34m.\u001b[0m\u001b[0mto\u001b[0m\u001b[0;34m(\u001b[0m\u001b[0mdevice\u001b[0m\u001b[0;34m,\u001b[0m\u001b[0mnon_blocking\u001b[0m\u001b[0;34m=\u001b[0m\u001b[0;32mTrue\u001b[0m\u001b[0;34m)\u001b[0m\u001b[0;34m\u001b[0m\u001b[0;34m\u001b[0m\u001b[0m\n\u001b[0m\u001b[1;32m     11\u001b[0m \u001b[0;34m\u001b[0m\u001b[0m\n\u001b[1;32m     12\u001b[0m \u001b[0;32mclass\u001b[0m \u001b[0mDeviceDataLoader\u001b[0m\u001b[0;34m(\u001b[0m\u001b[0;34m)\u001b[0m\u001b[0;34m:\u001b[0m\u001b[0;34m\u001b[0m\u001b[0;34m\u001b[0m\u001b[0m\n",
            "\u001b[0;31mKeyboardInterrupt\u001b[0m: "
          ]
        }
      ]
    },
    {
      "cell_type": "markdown",
      "source": [
        "***Trying with variation in lr , increases for 30% of the epochs , then start decreasing after max_lr is reached***"
      ],
      "metadata": {
        "id": "8Vz1djmeGIQV"
      }
    },
    {
      "cell_type": "code",
      "source": [
        "num_epochs=10\n",
        "max_lr=0.01\n",
        "opt_fun =  torch.optim.SGD"
      ],
      "metadata": {
        "id": "zSQeTNzvDRNa"
      },
      "execution_count": 43,
      "outputs": []
    },
    {
      "cell_type": "code",
      "source": [
        "history_lr = fit_one_cycle(epochs=num_epochs,max_lr=max_lr,model=model,train_loader=train_dl,val_loader=val_dl,opt_func=opt_fun)"
      ],
      "metadata": {
        "colab": {
          "base_uri": "https://localhost:8080/"
        },
        "id": "BoWXTg78GVfT",
        "outputId": "e705ddba-7d99-443f-f651-fa31fd866cd4"
      },
      "execution_count": 44,
      "outputs": [
        {
          "output_type": "stream",
          "name": "stdout",
          "text": [
            "[0.0003999999999999993, 0.0004006920812663368, 0.0004027681254918144, 0.0004062275340133842, 0.0004110693092511178, 0.0004172920549958721, 0.00042489397681191865, 0.000433872882554389, 0.00044422618300142894, 0.0004559508926008371, 0.00046904363033099805, 0.00048350062067587136, 0.000499317694713711, 0.0005164902913192548, 0.0005350134584790021, 0.0005548818547192035, 0.0005760897506461894, 0.0005986310305985051, 0.0006224991944105019, 0.0006476873592867437, 0.0006741882617867945, 0.0007019942599197585, 0.0007310973353479647, 0.0007614890956992078, 0.0007931607769868267, 0.0008261032461369475, 0.0008603070036221697, 0.0008957621862009102, 0.0009324585697616464, 0.0009703855722712085, 0.0010095322568262968, 0.0010498873348073166, 0.001091439169133658, 0.0011341757776194353, 0.001178084836428766, 0.0012231536836295569, 0.0012693693228447902, 0.0013167184270002508, 0.0013651873421676227, 0.0014147620915018286, 0.0014654283792714905, 0.0015171715949813605, 0.0015699768175855, 0.001623828819790023, 0.0016787120724441433, 0.0017346107490182824, 0.0017915087301679077, 0.0018493896083818344, 0.0019082366927136094, 0.0019680330135946264, 0.0020287613277276094, 0.0020904041230589906, 0.002152943623828835, 0.0022163617956967733, 0.0022806403509425125, 0.002345760753739423, 0.0024117042254996604, 0.0024784517502892877, 0.0025459840803118555, 0.0026142817414588288, 0.002683325038925287, 0.002753094062889253]\n",
            "Epoch [0],Train loss: 2.2767, val_loss: 33,551,777,710,211,072.0000, val_acc: 0.0995\n",
            "[0.0028235686942530373, 0.002894728610444923, 0.002966553291279532, 0.0030390220248751685, 0.0031121139136264502, 0.0031858078802304924, 0.0032600826737649085, 0.0033349168758158784, 0.003410288906654518, 0.0034861770314597662, 0.0035625593665859915, 0.003639413885873519, 0.003716718427000252, 0.003794450697872558, 0.0038725882830535786, 0.003951108650227105, 0.00402998915669516, 0.004109207055907407, 0.004188739504020513, 0.0042685635664855585, 0.004348656224661612, 0.004428994382453549, 0.004509554872972214, 0.004590314465214982, 0.004671249870764826, 0.004752337750505927, 0.004833554721353913, 0.004914877362998767, 0.004996282224658488, 0.005077745831841515, 0.005159244693116005, 0.005240755306883994, 0.005322254168158486, 0.00540371777534151, 0.005485122637001232, 0.005566445278646087, 0.0056476622494940724, 0.005728750129235172, 0.005809685534785018, 0.005890445127027785, 0.005971005617546451, 0.006051343775338388, 0.006131436433514442, 0.006211260495979485, 0.006290792944092591, 0.006370010843304839, 0.006448891349772895, 0.006527411716946421, 0.006605549302127442, 0.006683281572999748, 0.006760586114126481, 0.006837440633414007, 0.006913822968540234, 0.006989711093345481, 0.007065083124184122, 0.007139917326235091, 0.007214192119769508, 0.007287886086373549, 0.007360977975124833, 0.0074334467087204675, 0.0075052713895550766, 0.0075764313057469605]\n",
            "Epoch [1],Train loss: 2.2749, val_loss: 33,908,717,409,796,096.0000, val_acc: 0.0995\n",
            "[0.007646905937110746, 0.007716674961074711, 0.007785718258541171, 0.007854015919688144, 0.007921548249710713, 0.007988295774500338, 0.008054239246260576, 0.008119359649057486, 0.008183638204303227, 0.008247056376171163, 0.008309595876941007, 0.00837123867227239, 0.008431966986405373, 0.00849176330728639, 0.008550610391618165, 0.008608491269832092, 0.008665389250981717, 0.008721287927555854, 0.008776171180209976, 0.008830023182414498, 0.008882828405018639, 0.008934571620728509, 0.008985237908498173, 0.009034812657832375, 0.009083281572999747, 0.009130630677155208, 0.009176846316370443, 0.009221915163571232, 0.009265824222380564, 0.009308560830866341, 0.009350112665192683, 0.009390467743173703, 0.009429614427728791, 0.009467541430238355, 0.00950423781379909, 0.00953969299637783, 0.009573896753863052, 0.009606839223013173, 0.009638510904300792, 0.009668902664652035, 0.009698005740080243, 0.009725811738213205, 0.009752312640713258, 0.009777500805589498, 0.009801368969401494, 0.00982391024935381, 0.009845118145280794, 0.009864986541520999, 0.009883509708680745, 0.009900682305286288, 0.009916499379324128, 0.009930956369669001, 0.009944049107399162, 0.00995577381699857, 0.00996612711744561, 0.009975106023188081, 0.009982707945004127, 0.009988930690748882, 0.009993772465986615, 0.009997231874508185, 0.009999307918733663, 0.01]\n",
            "Epoch [2],Train loss: 2.2739, val_loss: 33,788,000,911,491,072.0000, val_acc: 0.1019\n",
            "[0.009999869004414158, 0.009999476024520598, 0.009998821080910852, 0.009997904207902948, 0.009996725453539607, 0.009995284879585719, 0.00999358256152512, 0.009991618588556628, 0.00998939306358937, 0.009986906103237391, 0.009984157837813543, 0.009981148411322657, 0.009977877981454001, 0.009974346719573007, 0.009970554810712308, 0.009966502453562023, 0.009962189860459365, 0.0099576172573775, 0.009952784883913712, 0.009947692993276854, 0.009942341852274071, 0.009936731741296823, 0.0099308629543062, 0.009924735798817506, 0.00991835059588415, 0.009911707680080836, 0.009904807399486014, 0.009897650115663648, 0.009890236203644273, 0.009882566051905343, 0.009874640062350875, 0.009866458650290386, 0.00985802224441714, 0.009849331286785673, 0.009840386232788644, 0.009831187551132964, 0.009821735723815237, 0.009812031246096505, 0.009802074626476302, 0.009791866386666003, 0.009781407061561487, 0.009770697199215117, 0.00975973736080701, 0.009748528120615652, 0.00973707006598778, 0.009725363797307629, 0.00971340992796546, 0.009701209084325433, 0.00968876190569276, 0.009676069044280238, 0.009663131165174052, 0.009649948946298935, 0.009636523078382645, 0.00962285426491977, 0.009608943222134864, 0.00959479067894492, 0.009580397376921184, 0.009565764070250282, 0.009550891525694714, 0.009535780522552672, 0.009520431852617205, 0.009504846320134737]\n",
            "Epoch [3],Train loss: 2.2733, val_loss: 33,794,917,956,321,280.0000, val_acc: 0.0995\n",
            "[0.009489024741762917, 0.009472967946527832, 0.009456676775780564, 0.009440152083153115, 0.009423394734513662, 0.009406405607921199, 0.009389185593579522, 0.009371735593790587, 0.009354056522907233, 0.009336149307285262, 0.009318014885234904, 0.009299654206971663, 0.009281068234566503, 0.009262257941895462, 0.009243224314588605, 0.009223968349978382, 0.00920449105704738, 0.009184793456375434, 0.009164876580086174, 0.009144741471792924, 0.009124389186544025, 0.009103820790767558, 0.00908303736221545, 0.009062039989907025, 0.009040829774071913, 0.00901940782609242, 0.008997775268445285, 0.00897593323464287, 0.008953882869173754, 0.008931625327442782, 0.0089091617757105, 0.008886493391032068, 0.008863621361195569, 0.008840546884659775, 0.00881727117049135, 0.008793795438301501, 0.008770120918182063, 0.008746248850641049, 0.008722180486537657, 0.008697917087016708, 0.008673459923442584, 0.008648810277332601, 0.008623969440289855, 0.008598938713935555, 0.008573719409840815, 0.008548312849457921, 0.008522720364051106, 0.008496943294626781, 0.008470982991863272, 0.008444840816040052, 0.00841851813696645, 0.008392016333909891, 0.008365336795523618, 0.008338480919773924, 0.008311450113866914, 0.008284245794174751, 0.008256869386161459, 0.008229322324308211, 0.008201606052038192, 0.008173722021640935, 0.008145671694196244, 0.008117456539497631]\n",
            "Epoch [4],Train loss: 2.2724, val_loss: 33,825,337,062,195,200.0000, val_acc: 0.0995\n",
            "[0.008089078035975297, 0.008060537670618664, 0.00803183693889847, 0.008002977344688396, 0.007973960400186268, 0.00794478762583483, 0.007915460550242061, 0.007885980710101088, 0.00785634965010966, 0.007826568922889214, 0.007796640088903514, 0.007766564716376892, 0.007736344381212065, 0.007705980666907576, 0.007675475164474804, 0.007644829472354606, 0.007614045196333565, 0.007583123949459839, 0.0075520673519586514, 0.0075208770311473855, 0.007489554621350314, 0.007458101763812974, 0.007426520106616156, 0.007394811304589552, 0.007362977019225051, 0.007331018918589666, 0.0072989386772381445, 0.007266737976125213, 0.0072344185025175044, 0.007201981949905141, 0.007169430017913008, 0.00713676441221169, 0.007103986844428095, 0.00707109903205577, 0.0070381026983649085, 0.007004999572312051, 0.006971791388449491, 0.00693847988683439, 0.006905066812937597, 0.006871553917552192, 0.006837942956701743, 0.006804235691548298, 0.006770433888300101, 0.006736539318119044, 0.006702553757027863, 0.006668478985817075, 0.006634316789951667, 0.006600068959477546, 0.006565737288927735, 0.006531323577228349, 0.006496829627604331, 0.0064622572474849664, 0.006427608248409175, 0.006392884445930595, 0.006358087659522441, 0.006323219712482177, 0.006288282431835968, 0.006253277648242957, 0.006218207195899335, 0.0061830729124422315, 0.006147876638853427, 0.0061126202193628925]\n",
            "Epoch [5],Train loss: 2.2725, val_loss: 33,663,549,939,122,176.0000, val_acc: 0.0995\n",
            "[0.006077305501352146, 0.006041934335257461, 0.006006508574472899, 0.0059710300752532, 0.005935500696616519, 0.005899922300247005, 0.00586429675039727, 0.005828625913790689, 0.005792911659523592, 0.005757155858967334, 0.005721360385670221, 0.005685527115259352, 0.0056496579253423425, 0.005613754695408926, 0.0055778193067324835, 0.005541853642271465, 0.005505859586570721, 0.005469839025662763, 0.005433793846968932, 0.005397725939200501, 0.005361637192259714, 0.0053255294971407555, 0.0052894047458306595, 0.005253264831210187, 0.005217111646954624, 0.0051809470874345735, 0.005144773047616672, 0.005108591422964324, 0.005072404109338357, 0.005036213002897695, 0.00500002, 0.0049638269971023045, 0.004927635890661644, 0.004891448577035676, 0.004855266952383328, 0.004819092912565427, 0.004782928353045376, 0.004746775168789814, 0.0047106352541693396, 0.004674510502859246, 0.004638402807740286, 0.0046023140607995006, 0.00456624615303107, 0.004530200974337237, 0.004494180413429279, 0.004458186357728535, 0.004422220693267518, 0.004386285304591075, 0.0043503820746576575, 0.004314512884740648, 0.004278679614329781, 0.004242884141032668, 0.004207128340476408, 0.004171414086209311, 0.004135743249602731, 0.004100117699752995, 0.004064539303383484, 0.0040290099247468, 0.0039935314255271, 0.00395810566474254, 0.003922734498647854, 0.003887419780637108]\n",
            "Epoch [6],Train loss: 2.2723, val_loss: 33,559,955,327,942,656.0000, val_acc: 0.1019\n",
            "[0.003852163361146573, 0.0038169670875577706, 0.0037818328041006656, 0.003746762351757042, 0.003711757568164033, 0.003676820287517824, 0.0036419523404775606, 0.0036071555540694066, 0.0035724317515908248, 0.0035377827525150353, 0.00350321037239567, 0.003468716422771653, 0.0034343027110722664, 0.0033999710405224546, 0.0033657232100483343, 0.003331561014182926, 0.0032974862429721386, 0.0032635006818809566, 0.0032296061116999, 0.0031958043084517034, 0.003162097043298258, 0.0031284860824478105, 0.003094973187062404, 0.0030615601131656124, 0.0030282486115505106, 0.00299504042768795, 0.0029619373016350923, 0.0029289409679442314, 0.0028960531555719078, 0.0028632755877883117, 0.0028306099820869924, 0.0027980580500948597, 0.0027656214974824977, 0.002733302023874787, 0.0027011013227618546, 0.002669021081410332, 0.00263706298077495, 0.0026052286954104478, 0.0025735198933838467, 0.002541938236187027, 0.002510485378649688, 0.0024791629688526162, 0.002447972648041349, 0.002416916050540162, 0.0023859948036664366, 0.002355210527645396, 0.0023245648355251984, 0.002294059333092424, 0.002263695618787936, 0.0022334752836231098, 0.0022033999110964864, 0.0021734710771107867, 0.0021436903498903395, 0.0021140592898989128, 0.002084579449757939, 0.0020552523741651707, 0.002026079599813732, 0.001997062655311607, 0.001968203061101532, 0.0019395023293813365, 0.001910961964024706, 0.00188258346050237]\n",
            "Epoch [7],Train loss: 2.2716, val_loss: 33,607,322,374,766,592.0000, val_acc: 0.1019\n",
            "[0.0018543683058037577, 0.0018263179783590668, 0.0017984339479618092, 0.0017707176756917903, 0.0017431706138385443, 0.0017157942058252493, 0.001688589886133086, 0.0016615590802260753, 0.0016347032044763828, 0.0016080236660901085, 0.001581521863033551, 0.0015551991839599484, 0.001529057008136726, 0.0015030967053732197, 0.001477319635948894, 0.0014517271505420806, 0.0014263205901591863, 0.0014011012860644454, 0.0013760705597101457, 0.0013512297226673997, 0.0013265800765574168, 0.0013021229129832929, 0.0012778595134623442, 0.0012537911493589512, 0.0012299190818179382, 0.0012062445616984995, 0.0011827688295086495, 0.0011594931153402265, 0.0011364186388044318, 0.0011135466089679316, 0.0010908782242895004, 0.0010684146725572193, 0.0010461571308262466, 0.0010241067653571322, 0.0010022647315547153, 0.0009806321739075816, 0.0009592102259280879, 0.0009380000100929757, 0.0009170026377845487, 0.0008962192092324438, 0.0008756508134559754, 0.0008552985282070765, 0.0008351634199138256, 0.000815246543624565, 0.0007955489429526216, 0.0007760716500216172, 0.0007568156854113947, 0.000737782058104537, 0.0007189717654334958, 0.0007003857930283384, 0.0006820251147650958, 0.0006638906927147397, 0.0006459834770927678, 0.0006283044062094125, 0.0006108544064204793, 0.0005936343920788023, 0.0005766452654863398, 0.0005598879168468861, 0.000543363224219436, 0.0005270720534721689, 0.0005110152582370835, 0.0004951936798652628]\n",
            "Epoch [8],Train loss: 2.2714, val_loss: 33,769,369,343,361,024.0000, val_acc: 0.0995\n",
            "[0.0004796081473827943, 0.0004642594774473278, 0.00044914847430528604, 0.0004342759297497176, 0.00041964262307881615, 0.0004052493210550794, 0.0003910967778651369, 0.0003771857350802306, 0.00036351692161735414, 0.00035009105370106504, 0.00033690883482594906, 0.0003239709557197628, 0.0003112780943072414, 0.00029883091567456854, 0.0002866300720345393, 0.00027467620269237207, 0.00026296993401222097, 0.0002515118793843485, 0.00024030263919298805, 0.00022934280078488393, 0.00021863293843851309, 0.00020817361333399807, 0.00019796537352369782, 0.00018800875390349473, 0.00017830427618476438, 0.0001688524488670364, 0.00015965376721135645, 0.0001507087132143276, 0.00014201775558286129, 0.00013358134970961467, 0.00012539993764912555, 0.00011747394809465757, 0.00010980379635572769, 0.00010238988433635264, 9.523260051398579e-05, 8.833231991916299e-05, 8.168940411584892e-05, 7.530420118249512e-05, 6.917704569379959e-05, 6.330825870317593e-05, 5.769814772592966e-05, 5.234700672314668e-05, 4.7255116086288464e-05, 4.242274262250163e-05, 3.7850139540635305e-05, 3.353754643797623e-05, 2.9485189287692183e-05, 2.5693280426992062e-05, 2.216201854600038e-05, 1.8891588677343406e-05, 1.588216218645808e-05, 1.3133896762610338e-05, 1.064693641063009e-05, 8.421411443371731e-06, 6.4574384748796274e-06, 4.75512041428081e-06, 3.31454646039375e-06, 2.1357920970510087e-06, 1.2189190891479711e-06, 5.639754794026715e-07, 1.709955858417032e-07, 4e-08]\n",
            "Epoch [9],Train loss: 2.2707, val_loss: 33,820,266,853,302,272.0000, val_acc: 0.0995\n"
          ]
        }
      ]
    },
    {
      "cell_type": "markdown",
      "source": [
        "**Taking some learning from above: take the loss for the epoch(or one before) with least loss as gradient is still decreasing on thosde ecpochs**"
      ],
      "metadata": {
        "id": "6bwGJwBQQVEO"
      }
    },
    {
      "cell_type": "code",
      "source": [
        "num_epochs=10\n",
        "max_lr=0.005\n",
        "opt_fun =  torch.optim.Adam\n",
        "history_lr_adam = fit_one_cycle(epochs=num_epochs,max_lr=max_lr,model=model,train_loader=train_dl,val_loader=val_dl,opt_func=opt_fun)\n"
      ],
      "metadata": {
        "id": "oC9gK24EN6we"
      },
      "execution_count": null,
      "outputs": []
    },
    {
      "cell_type": "code",
      "source": [
        "num_epochs=10\n",
        "max_lr=0.01\n",
        "grad_clip = 0.1\n",
        "opt_fun =  torch.optim.Adam\n",
        "history_lr_adam_grad_clip = fit_one_cycle(epochs=num_epochs,max_lr=max_lr,model=model,train_loader=train_dl,val_loader=val_dl,grad_clip=grad_clip,opt_func=opt_fun)\n"
      ],
      "metadata": {
        "id": "49UfIEz5OFkG"
      },
      "execution_count": null,
      "outputs": []
    }
  ]
}